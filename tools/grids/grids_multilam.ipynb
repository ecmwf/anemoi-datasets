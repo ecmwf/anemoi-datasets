{
 "cells": [
  {
   "cell_type": "code",
   "execution_count": null,
   "metadata": {},
   "outputs": [],
   "source": [
    "import numpy as np\n",
    "from anemoi.datasets import open_dataset\n",
    "from anemoi.datasets.data.grids import Cutout"
   ]
  },
  {
   "cell_type": "markdown",
   "metadata": {},
   "source": [
    "# Load the data\n",
    "Datasets generated from the grids*.yaml files in tools/grids/"
   ]
  },
  {
   "cell_type": "code",
   "execution_count": null,
   "metadata": {},
   "outputs": [],
   "source": [
    "data_dir = \"dir_with_your_zarr_data\"\n",
    "f_global = data_dir + \"/grids1.zarr\"\n",
    "f_lam1 = data_dir + \"/grids2.zarr\"\n",
    "f_lam2 = data_dir + \"/grids3.zarr\"\n",
    "f_lam3 = data_dir + \"/grids4.zarr\"\n",
    "f_lam4 = data_dir + \"/grids5.zarr\"\n",
    "f_lam5 = data_dir + \"/grids6.zarr\"\n",
    "f_lam6 = data_dir + \"/grids7.zarr\""
   ]
  },
  {
   "cell_type": "code",
   "execution_count": null,
   "metadata": {},
   "outputs": [],
   "source": [
    "global_dataset = open_dataset(f_global)\n",
    "lam_dataset_1 = open_dataset(f_lam1)\n",
    "lam_dataset_2 = open_dataset(f_lam2)\n",
    "lam_dataset_3 = open_dataset(f_lam3)\n",
    "lam_dataset_4 = open_dataset(f_lam4)\n",
    "lam_dataset_5 = open_dataset(f_lam5)\n",
    "lam_dataset_6 = open_dataset(f_lam6)"
   ]
  },
  {
   "cell_type": "markdown",
   "metadata": {
    "jp-MarkdownHeadingCollapsed": true
   },
   "source": [
    "# Define and run some tests"
   ]
  },
  {
   "cell_type": "code",
   "execution_count": null,
   "metadata": {},
   "outputs": [],
   "source": [
    "def test_cutout_initialization(lam_dataset_1, lam_dataset_2, global_dataset):\n",
    "    \"\"\"Ensure that the Cutout class correctly initializes with multiple Limited\n",
    "    Area Models (LAMs) and a global dataset.\"\"\"\n",
    "    cutout = Cutout(\n",
    "        [lam_dataset_1, lam_dataset_2, global_dataset],\n",
    "        axis=3,\n",
    "    )\n",
    "\n",
    "    assert len(cutout.lams) == 2\n",
    "    assert cutout.globe is not None\n",
    "    assert len(cutout.masks) == 2\n",
    "\n",
    "\n",
    "def test_cutout_mask_generation(lam_dataset, global_dataset):\n",
    "    \"\"\" \"Ensure that the cutout_mask function correctly generates masks for LAMs\n",
    "    and excludes overlapping regions.\"\"\"\n",
    "    cutout = Cutout([lam_dataset, global_dataset], axis=3)\n",
    "    mask = cutout.masks[0]\n",
    "    lam = cutout.lams[0]\n",
    "\n",
    "    assert mask is not None\n",
    "    assert isinstance(mask, np.ndarray)\n",
    "    assert isinstance(cutout.global_mask, np.ndarray)\n",
    "    assert mask.shape[-1] == lam.shape[-1]\n",
    "    assert cutout.global_mask.shape[-1] == global_dataset.shape[-1]\n",
    "\n",
    "\n",
    "def test_cutout_getitem(lam_dataset, global_dataset):\n",
    "    \"\"\"Verify that the __getitem__ method correctly returns the appropriate\n",
    "    data when indexing the Cutout object.\"\"\"\n",
    "    cutout = Cutout([lam_dataset, global_dataset], axis=3)\n",
    "\n",
    "    data = cutout[0, :, :, :]\n",
    "    expected_shape = cutout.shape[1:]\n",
    "    assert data is not None\n",
    "    assert data.shape == expected_shape\n",
    "\n",
    "\n",
    "def test_latitudes_longitudes_concatenation(\n",
    "    lam_dataset_1, lam_dataset_2, global_dataset\n",
    "):\n",
    "    \"\"\"Ensure that latitudes and longitudes are correctly\n",
    "    concatenated from all LAMs and the masked global dataset.\"\"\"\n",
    "    cutout = Cutout([lam_dataset_1, lam_dataset_2, global_dataset], axis=3)\n",
    "\n",
    "    latitudes = cutout.latitudes\n",
    "    longitudes = cutout.longitudes\n",
    "\n",
    "    assert latitudes is not None\n",
    "    assert longitudes is not None\n",
    "    assert len(latitudes) == cutout.shape[-1]\n",
    "    assert len(longitudes) == cutout.shape[-1]\n",
    "\n",
    "\n",
    "def test_overlapping_lams(lam_dataset_1, lam_dataset_2, global_dataset):\n",
    "    \"\"\"Confirm that overlapping regions between LAMs and the global dataset are\n",
    "    correctly handled by the masks.\"\"\"\n",
    "    # lam_dataset_2 has to overlap with lam_dataset_1\n",
    "    cutout = Cutout([lam_dataset_1, lam_dataset_2, global_dataset], axis=3)\n",
    "\n",
    "    # Verify that the overlapping region in lam_dataset_2 is excluded\n",
    "    assert np.count_nonzero(cutout.masks[1] == False) > 0 # noqa: E712\n",
    "\n",
    "\n",
    "def test_open_dataset_cutout(lam_dataset_1, global_dataset):\n",
    "    \"\"\"Ensure that open_dataset(cutout=[...]) works correctly with the new\n",
    "    Cutout implementation.\"\"\"\n",
    "    ds = open_dataset(cutout=[lam_dataset_1, global_dataset])\n",
    "\n",
    "    assert isinstance(ds, Cutout)\n",
    "    assert len(ds.lams) == 1\n",
    "    assert ds.globe is not None"
   ]
  },
  {
   "cell_type": "code",
   "execution_count": null,
   "metadata": {},
   "outputs": [],
   "source": [
    "test_cutout_initialization(lam_dataset_1, lam_dataset_2, global_dataset)"
   ]
  },
  {
   "cell_type": "code",
   "execution_count": null,
   "metadata": {},
   "outputs": [],
   "source": [
    "test_cutout_mask_generation(lam_dataset_1, global_dataset)"
   ]
  },
  {
   "cell_type": "code",
   "execution_count": null,
   "metadata": {},
   "outputs": [],
   "source": [
    "test_cutout_getitem(lam_dataset_1, global_dataset)"
   ]
  },
  {
   "cell_type": "code",
   "execution_count": null,
   "metadata": {},
   "outputs": [],
   "source": [
    "test_latitudes_longitudes_concatenation(lam_dataset_1, lam_dataset_2, global_dataset)"
   ]
  },
  {
   "cell_type": "code",
   "execution_count": null,
   "metadata": {},
   "outputs": [],
   "source": [
    "test_overlapping_lams(lam_dataset_1, lam_dataset_2, global_dataset)"
   ]
  },
  {
   "cell_type": "code",
   "execution_count": null,
   "metadata": {},
   "outputs": [],
   "source": [
    "test_open_dataset_cutout(lam_dataset_1, global_dataset)"
   ]
  },
  {
   "cell_type": "markdown",
   "metadata": {
    "jp-MarkdownHeadingCollapsed": true
   },
   "source": [
    "# Plot function"
   ]
  },
  {
   "cell_type": "code",
   "execution_count": null,
   "metadata": {},
   "outputs": [],
   "source": [
    "def plot_grid(\n",
    "    ds,\n",
    "    path,\n",
    "    s=0.1,\n",
    "    c=\"r\",\n",
    "    grids=None,\n",
    "    point=None,\n",
    "    central_latitude=-20.0,\n",
    "    central_longitude=165.0,\n",
    "):\n",
    "    import matplotlib.pyplot as plt\n",
    "    import cartopy.crs as ccrs\n",
    "    import numpy as np\n",
    "\n",
    "    lats, lons = ds.latitudes, ds.longitudes\n",
    "\n",
    "    fig = plt.figure(figsize=(9, 9))\n",
    "    proj = ccrs.NearsidePerspective(\n",
    "        central_latitude=central_latitude,\n",
    "        central_longitude=central_longitude,\n",
    "        satellite_height=4e6,\n",
    "    )\n",
    "\n",
    "    ax = plt.axes(projection=proj)\n",
    "\n",
    "    def fill():\n",
    "        # Make sure we have a full globe\n",
    "        lons, lats = np.meshgrid(np.arange(-180, 180, 1), np.arange(-90, 90, 1))\n",
    "        x, y, _ = proj.transform_points(\n",
    "            ccrs.PlateCarree(), lons.flatten(), lats.flatten()\n",
    "        ).T\n",
    "\n",
    "        mask = np.invert(np.logical_or(np.isinf(x), np.isinf(y)))\n",
    "        x = np.compress(mask, x)\n",
    "        y = np.compress(mask, y)\n",
    "\n",
    "        # ax.tricontourf(x, y, values)\n",
    "        ax.scatter(x, y, s=0, c=\"w\")\n",
    "\n",
    "    fill()\n",
    "\n",
    "    def plot(what, s, c):\n",
    "        x, y, _ = proj.transform_points(ccrs.PlateCarree(), lons[what], lats[what]).T\n",
    "\n",
    "        mask = np.invert(np.logical_or(np.isinf(x), np.isinf(y)))\n",
    "        x = np.compress(mask, x)\n",
    "        y = np.compress(mask, y)\n",
    "\n",
    "        # ax.tricontourf(x, y, values)\n",
    "        ax.scatter(x, y, s=s, c=c)\n",
    "\n",
    "    if grids:\n",
    "        # print('s: ', s)\n",
    "        a = 0\n",
    "        for i, b in enumerate(grids):\n",
    "            if s[i] is not None:\n",
    "                plot(slice(a, a + b), s[i], c[i])\n",
    "            a += b\n",
    "    else:\n",
    "        plot(..., s, c)\n",
    "\n",
    "    if point:\n",
    "        point = np.array(point, dtype=np.float64)\n",
    "        x, y, _ = proj.transform_points(ccrs.PlateCarree(), point[1], point[0]).T\n",
    "        ax.scatter(x, y, s=100, c=\"k\")\n",
    "\n",
    "    ax.coastlines()\n",
    "\n",
    "    if isinstance(path, str):\n",
    "        fig.savefig(path, bbox_inches=\"tight\")\n",
    "    else:\n",
    "        for p in path:\n",
    "            fig.savefig(p, bbox_inches=\"tight\")"
   ]
  },
  {
   "cell_type": "markdown",
   "metadata": {
    "jp-MarkdownHeadingCollapsed": true
   },
   "source": [
    "# 1) Plot the datasets separately"
   ]
  },
  {
   "cell_type": "code",
   "execution_count": null,
   "metadata": {},
   "outputs": [],
   "source": [
    "plot_grid(\n",
    "    global_dataset, \"global_grids1.png\", central_latitude=20.0, central_longitude=75.0\n",
    ")"
   ]
  },
  {
   "cell_type": "code",
   "execution_count": null,
   "metadata": {},
   "outputs": [],
   "source": [
    "plot_grid(\n",
    "    lam_dataset_1, \"lam1_grids2.png\", central_latitude=60.0, central_longitude=15.0\n",
    ")"
   ]
  },
  {
   "cell_type": "code",
   "execution_count": null,
   "metadata": {},
   "outputs": [],
   "source": [
    "plot_grid(\n",
    "    lam_dataset_2, \"lam1_grids3.png\", central_latitude=50.0, central_longitude=75.0\n",
    ")"
   ]
  },
  {
   "cell_type": "code",
   "execution_count": null,
   "metadata": {},
   "outputs": [],
   "source": [
    "plot_grid(\n",
    "    lam_dataset_3, \"lam1_grids4.png\", central_latitude=20.0, central_longitude=105.0\n",
    ")"
   ]
  },
  {
   "cell_type": "code",
   "execution_count": null,
   "metadata": {},
   "outputs": [],
   "source": [
    "plot_grid(\n",
    "    lam_dataset_4, \"lam1_grids5.png\", central_latitude=20.0, central_longitude=105.0\n",
    ")"
   ]
  },
  {
   "cell_type": "code",
   "execution_count": null,
   "metadata": {},
   "outputs": [],
   "source": [
    "plot_grid(\n",
    "    lam_dataset_5, \"lam5_grids6.png\", central_latitude=-20.0, central_longitude=165.0\n",
    ")"
   ]
  },
  {
   "cell_type": "code",
   "execution_count": null,
   "metadata": {},
   "outputs": [],
   "source": [
    "plot_grid(\n",
    "    lam_dataset_6, \"lam6_grids7.png\", central_latitude=-20.0, central_longitude=165.0\n",
    ")"
   ]
  },
  {
   "cell_type": "markdown",
   "metadata": {
    "jp-MarkdownHeadingCollapsed": true
   },
   "source": [
    "# 2)  Test cutout with one LAM"
   ]
  },
  {
   "cell_type": "code",
   "execution_count": null,
   "metadata": {},
   "outputs": [],
   "source": [
    "ds = open_dataset(cutout=[lam_dataset_1, global_dataset])"
   ]
  },
  {
   "cell_type": "code",
   "execution_count": null,
   "metadata": {},
   "outputs": [],
   "source": [
    "plot_grid(\n",
    "    ds,\n",
    "    \"cutout_global_lam1.png\",\n",
    "    s=[0.5, 0.5],\n",
    "    grids=ds.grids,\n",
    "    c=[\"g\", \"r\"],\n",
    "    central_latitude=50.0,\n",
    "    central_longitude=15.0,\n",
    ")"
   ]
  },
  {
   "cell_type": "markdown",
   "metadata": {},
   "source": [
    "# 3) a) Test two overlapping LAMs\n",
    "The LAMs have different resolution and are rotated"
   ]
  },
  {
   "cell_type": "code",
   "execution_count": null,
   "metadata": {},
   "outputs": [],
   "source": [
    "ds = open_dataset(cutout=[lam_dataset_2, lam_dataset_1, global_dataset])"
   ]
  },
  {
   "cell_type": "code",
   "execution_count": null,
   "metadata": {},
   "outputs": [],
   "source": [
    "ds.grids"
   ]
  },
  {
   "cell_type": "code",
   "execution_count": null,
   "metadata": {},
   "outputs": [],
   "source": [
    "plot_grid(\n",
    "    ds,\n",
    "    \"cutout_global_lam1_lam2.png\",\n",
    "    s=[0.1, 0.1, 0.1],\n",
    "    grids=ds.grids,\n",
    "    c=[\"g\", \"r\", \"b\"],\n",
    "    central_latitude=50.0,\n",
    "    central_longitude=65.0,\n",
    ")"
   ]
  },
  {
   "cell_type": "markdown",
   "metadata": {
    "jp-MarkdownHeadingCollapsed": true
   },
   "source": [
    "## 3) b) The same LAMs but in a different order"
   ]
  },
  {
   "cell_type": "code",
   "execution_count": null,
   "metadata": {},
   "outputs": [],
   "source": [
    "ds = open_dataset(cutout=[lam_dataset_1, lam_dataset_2, global_dataset])"
   ]
  },
  {
   "cell_type": "code",
   "execution_count": null,
   "metadata": {},
   "outputs": [],
   "source": [
    "ds.grids"
   ]
  },
  {
   "cell_type": "code",
   "execution_count": null,
   "metadata": {},
   "outputs": [],
   "source": [
    "plot_grid(\n",
    "    ds,\n",
    "    \"cutout_global_lam2_lam1.png\",\n",
    "    s=[0.1, 0.1, 0.1],\n",
    "    grids=ds.grids,\n",
    "    c=[\"g\", \"r\", \"b\"],\n",
    "    central_latitude=50.0,\n",
    "    central_longitude=65.0,\n",
    ")"
   ]
  },
  {
   "cell_type": "code",
   "execution_count": null,
   "metadata": {},
   "outputs": [],
   "source": []
  },
  {
   "cell_type": "markdown",
   "metadata": {
    "jp-MarkdownHeadingCollapsed": true
   },
   "source": [
    "# 4) Test two LAMS that are not overlapping"
   ]
  },
  {
   "cell_type": "code",
   "execution_count": null,
   "metadata": {},
   "outputs": [],
   "source": [
    "ds = open_dataset(cutout=[lam_dataset_3, lam_dataset_2, global_dataset])"
   ]
  },
  {
   "cell_type": "code",
   "execution_count": null,
   "metadata": {},
   "outputs": [],
   "source": [
    "plot_grid(\n",
    "    ds,\n",
    "    \"cutout_global_lam3_lam2.png\",\n",
    "    s=[0.1, 0.1, 0.1],\n",
    "    grids=ds.grids,\n",
    "    c=[\"g\", \"r\", \"b\"],\n",
    "    central_latitude=40.0,\n",
    "    central_longitude=95.0,\n",
    ")"
   ]
  },
  {
   "cell_type": "markdown",
   "metadata": {},
   "source": [
    "# 5)  Test multiple LAMS \n",
    "\n",
    "- LAMs with different resolutions\n",
    "- Rotated LAMs\n",
    "- LAMs with no overlap.\n",
    "- LAM contained within other LAM"
   ]
  },
  {
   "cell_type": "code",
   "execution_count": null,
   "metadata": {},
   "outputs": [],
   "source": [
    "ds = open_dataset(\n",
    "    cutout=[lam_dataset_4, lam_dataset_3, lam_dataset_2, lam_dataset_1, global_dataset]\n",
    ")"
   ]
  },
  {
   "cell_type": "code",
   "execution_count": null,
   "metadata": {},
   "outputs": [],
   "source": [
    "plot_grid(\n",
    "    ds,\n",
    "    \"cutout_global_lam4_lam3_lam2_lam1.png\",\n",
    "    s=[0.1, 0.1, 0.1, 0.1, 0.1],\n",
    "    grids=ds.grids,\n",
    "    # c=[\"g\", \"r\", \"b\", \"c\", \"y\", \"k\"],\n",
    "    c=[\"g\", \"r\", \"b\", \"c\", \"y\"],\n",
    "    central_latitude=50.0,\n",
    "    central_longitude=95.0,\n",
    ")"
   ]
  },
  {
   "cell_type": "markdown",
   "metadata": {
    "jp-MarkdownHeadingCollapsed": true
   },
   "source": [
    "# Test small LAM behind bigger LAM"
   ]
  },
  {
   "cell_type": "code",
   "execution_count": null,
   "metadata": {},
   "outputs": [],
   "source": [
    "ds = open_dataset(cutout=[lam_dataset_3, lam_dataset_4, global_dataset])"
   ]
  },
  {
   "cell_type": "code",
   "execution_count": null,
   "metadata": {},
   "outputs": [],
   "source": [
    "plot_grid(\n",
    "    ds,\n",
    "    \"cutout_global_lam3_lam4.png\",\n",
    "    s=[0.1, 0.1, 0.1],\n",
    "    grids=ds.grids,\n",
    "    c=[\"g\", \"r\", \"b\"],\n",
    "    central_latitude=50.0,\n",
    "    central_longitude=95.0,\n",
    ")"
   ]
  },
  {
   "cell_type": "code",
   "execution_count": null,
   "metadata": {},
   "outputs": [],
   "source": []
  },
  {
   "cell_type": "markdown",
   "metadata": {
    "jp-MarkdownHeadingCollapsed": true
   },
   "source": [
    "# 6 a)  Test cutout with a coarser resolution LAM"
   ]
  },
  {
   "cell_type": "markdown",
   "metadata": {},
   "source": [
    "Using LAMs with very low resolution can be a challenge, depending on how it compares to the resolution of the global dataset and the other LAMs.\n",
    "\n",
    "TODO: A future implementation could consider a list of `min_distance_km` and `neighbours`, so that there is value one for each LAM."
   ]
  },
  {
   "cell_type": "markdown",
   "metadata": {},
   "source": [
    "### Using default values"
   ]
  },
  {
   "cell_type": "code",
   "execution_count": null,
   "metadata": {},
   "outputs": [],
   "source": [
    "ds = open_dataset(cutout=[lam_dataset_5, global_dataset])"
   ]
  },
  {
   "cell_type": "code",
   "execution_count": null,
   "metadata": {},
   "outputs": [],
   "source": [
    "plot_grid(\n",
    "    ds,\n",
    "    \"cutout_global_lam5.png\",\n",
    "    s=[0.1, 0.1],\n",
    "    grids=ds.grids,\n",
    "    c=[\"g\", \"r\"],\n",
    "    central_latitude=-30.0,\n",
    "    central_longitude=165.0,\n",
    ")"
   ]
  },
  {
   "cell_type": "markdown",
   "metadata": {},
   "source": [
    "Has some issues when using default parameters"
   ]
  },
  {
   "cell_type": "code",
   "execution_count": null,
   "metadata": {},
   "outputs": [],
   "source": [
    "plot_grid(\n",
    "    ds,\n",
    "    \"cutout_global_lam5.png\",\n",
    "    s=[0.1, 0.1],\n",
    "    grids=ds.grids,\n",
    "    c=[\"g\", \"r\"],\n",
    "    central_latitude=50.0,\n",
    "    central_longitude=165.0,\n",
    ")"
   ]
  },
  {
   "cell_type": "markdown",
   "metadata": {},
   "source": [
    "### 6) a) i) Test the parameter `min_distance_km`."
   ]
  },
  {
   "cell_type": "code",
   "execution_count": null,
   "metadata": {},
   "outputs": [],
   "source": [
    "ds = open_dataset(cutout=[lam_dataset_5, global_dataset], min_distance_km=600)"
   ]
  },
  {
   "cell_type": "code",
   "execution_count": null,
   "metadata": {},
   "outputs": [],
   "source": [
    "plot_grid(\n",
    "    ds,\n",
    "    \"cutout_global_lam5.png\",\n",
    "    s=[0.1, 0.1],\n",
    "    grids=ds.grids,\n",
    "    c=[\"g\", \"r\"],\n",
    "    central_latitude=-30.0,\n",
    "    central_longitude=165.0,\n",
    ")"
   ]
  },
  {
   "cell_type": "code",
   "execution_count": null,
   "metadata": {},
   "outputs": [],
   "source": [
    "plot_grid(\n",
    "    ds,\n",
    "    \"cutout_global_lam5.png\",\n",
    "    s=[0.1, 0.1],\n",
    "    grids=ds.grids,\n",
    "    c=[\"g\", \"r\"],\n",
    "    central_latitude=50.0,\n",
    "    central_longitude=165.0,\n",
    ")"
   ]
  },
  {
   "cell_type": "markdown",
   "metadata": {},
   "source": [
    "### 6) a) ii) Test the parameter `neighbours`."
   ]
  },
  {
   "cell_type": "code",
   "execution_count": null,
   "metadata": {},
   "outputs": [],
   "source": [
    "ds = open_dataset(cutout=[lam_dataset_5, global_dataset], neighbours=200)"
   ]
  },
  {
   "cell_type": "code",
   "execution_count": null,
   "metadata": {},
   "outputs": [],
   "source": [
    "plot_grid(\n",
    "    ds,\n",
    "    \"cutout_global_lam5.png\",\n",
    "    s=[0.1, 0.1],\n",
    "    grids=ds.grids,\n",
    "    c=[\"g\", \"r\"],\n",
    "    central_latitude=-30.0,\n",
    "    central_longitude=165.0,\n",
    ")"
   ]
  },
  {
   "cell_type": "code",
   "execution_count": null,
   "metadata": {},
   "outputs": [],
   "source": [
    "plot_grid(\n",
    "    ds,\n",
    "    \"cutout_global_lam5.png\",\n",
    "    s=[0.1, 0.1],\n",
    "    grids=ds.grids,\n",
    "    c=[\"g\", \"r\"],\n",
    "    central_latitude=50.0,\n",
    "    central_longitude=165.0,\n",
    ")"
   ]
  },
  {
   "cell_type": "markdown",
   "metadata": {},
   "source": [
    "## 6) b)  A similar example, where the LAM resolution is not so low"
   ]
  },
  {
   "cell_type": "markdown",
   "metadata": {},
   "source": [
    "### 6) b) i) Test the parameter `min_distance_km`."
   ]
  },
  {
   "cell_type": "code",
   "execution_count": null,
   "metadata": {},
   "outputs": [],
   "source": [
    "ds = open_dataset(\n",
    "    cutout=[\n",
    "        lam_dataset_4,\n",
    "        lam_dataset_3,\n",
    "        lam_dataset_2,\n",
    "        lam_dataset_1,\n",
    "        lam_dataset_6,\n",
    "        global_dataset,\n",
    "    ],\n",
    "    min_distance_km=200,\n",
    ")"
   ]
  },
  {
   "cell_type": "code",
   "execution_count": null,
   "metadata": {},
   "outputs": [],
   "source": [
    "plot_grid(\n",
    "    ds,\n",
    "    \"cutout_global_lam4_lam3_lam2_lam1_lam6.png\",\n",
    "    s=[0.1, 0.1, 0.1, 0.1, 0.1, 0.1],\n",
    "    grids=ds.grids,\n",
    "    c=[\"g\", \"r\", \"b\", \"c\", \"y\", \"k\"],\n",
    "    central_latitude=-30.0,\n",
    "    central_longitude=165.0,\n",
    ")"
   ]
  },
  {
   "cell_type": "code",
   "execution_count": null,
   "metadata": {},
   "outputs": [],
   "source": [
    "plot_grid(\n",
    "    ds,\n",
    "    \"cutout_global_lam4_lam3_lam2_lam1_lam6.png\",\n",
    "    s=[0.1, 0.1, 0.1, 0.1, 0.1, 0.1],\n",
    "    grids=ds.grids,\n",
    "    c=[\"g\", \"r\", \"b\", \"c\", \"y\", \"k\"],\n",
    "    central_latitude=50.0,\n",
    "    central_longitude=95.0,\n",
    ")"
   ]
  },
  {
   "cell_type": "markdown",
   "metadata": {},
   "source": [
    "### 6) b) ii) Test the parameter `neighbours`."
   ]
  },
  {
   "cell_type": "code",
   "execution_count": null,
   "metadata": {},
   "outputs": [],
   "source": [
    "ds = open_dataset(\n",
    "    cutout=[\n",
    "        lam_dataset_4,\n",
    "        lam_dataset_3,\n",
    "        lam_dataset_2,\n",
    "        lam_dataset_1,\n",
    "        lam_dataset_6,\n",
    "        global_dataset,\n",
    "    ],\n",
    "    neighbours=10,\n",
    ")"
   ]
  },
  {
   "cell_type": "code",
   "execution_count": null,
   "metadata": {},
   "outputs": [],
   "source": [
    "plot_grid(\n",
    "    ds,\n",
    "    \"cutout_global_lam4_lam3_lam2_lam1_lam6.png\",\n",
    "    s=[0.1, 0.1, 0.1, 0.1, 0.1, 0.1],\n",
    "    grids=ds.grids,\n",
    "    c=[\"g\", \"r\", \"b\", \"c\", \"y\", \"k\"],\n",
    "    central_latitude=-30.0,\n",
    "    central_longitude=165.0,\n",
    ")"
   ]
  },
  {
   "cell_type": "code",
   "execution_count": null,
   "metadata": {},
   "outputs": [],
   "source": [
    "plot_grid(\n",
    "    ds,\n",
    "    \"cutout_global_lam4_lam3_lam2_lam1_lam6.png\",\n",
    "    s=[0.1, 0.1, 0.1, 0.1, 0.1, 0.1],\n",
    "    grids=ds.grids,\n",
    "    c=[\"g\", \"r\", \"b\", \"c\", \"y\", \"k\"],\n",
    "    central_latitude=50.0,\n",
    "    central_longitude=95.0,\n",
    ")"
   ]
  },
  {
   "cell_type": "code",
   "execution_count": null,
   "metadata": {},
   "outputs": [],
   "source": []
  },
  {
   "cell_type": "markdown",
   "metadata": {
    "jp-MarkdownHeadingCollapsed": true
   },
   "source": [
    "# 7) Test thinning with cutout"
   ]
  },
  {
   "cell_type": "code",
   "execution_count": null,
   "metadata": {},
   "outputs": [],
   "source": [
    "ds = open_dataset(\n",
    "    cutout=[\n",
    "        {\"dataset\": lam_dataset_2, \"thinning\": 2},\n",
    "        {\"dataset\": lam_dataset_1, \"thinning\": 8},\n",
    "        {\"dataset\": global_dataset, \"thinning\": 2},\n",
    "    ]\n",
    ")"
   ]
  },
  {
   "cell_type": "code",
   "execution_count": null,
   "metadata": {},
   "outputs": [],
   "source": [
    "plot_grid(\n",
    "    ds,\n",
    "    \"cutout_thinning2_global_lam2_lam1.png\",\n",
    "    s=[0.1, 0.1, 0.1],\n",
    "    grids=ds.grids,\n",
    "    c=[\"g\", \"r\", \"b\"],\n",
    "    central_latitude=50.0,\n",
    "    central_longitude=65.0,\n",
    ")"
   ]
  },
  {
   "cell_type": "markdown",
   "metadata": {
    "jp-MarkdownHeadingCollapsed": true
   },
   "source": [
    "# 8) Test cropping with cutout"
   ]
  },
  {
   "cell_type": "code",
   "execution_count": null,
   "metadata": {},
   "outputs": [],
   "source": [
    "ds = open_dataset(\n",
    "    cutout=[\n",
    "        {\"dataset\": lam_dataset_1, \"area\": (60, 0, 20, 80)},\n",
    "        {\"dataset\": lam_dataset_2},\n",
    "        {\"dataset\": global_dataset},\n",
    "    ]\n",
    ")"
   ]
  },
  {
   "cell_type": "code",
   "execution_count": null,
   "metadata": {},
   "outputs": [],
   "source": [
    "plot_grid(\n",
    "    ds,\n",
    "    \"cutout_global_lam1cropped_lam2.png\",\n",
    "    s=[0.1, 0.1, 0.1],\n",
    "    grids=ds.grids,\n",
    "    c=[\"g\", \"r\", \"b\"],\n",
    "    central_latitude=50.0,\n",
    "    central_longitude=65.0,\n",
    ")"
   ]
  }
 ],
 "metadata": {
  "kernelspec": {
   "display_name": "Python 3 (ipykernel)",
   "language": "python",
   "name": "python3"
  },
  "language_info": {
   "codemirror_mode": {
    "name": "ipython",
    "version": 3
   },
   "file_extension": ".py",
   "mimetype": "text/x-python",
   "name": "python",
   "nbconvert_exporter": "python",
   "pygments_lexer": "ipython3",
   "version": "3.10.14"
  }
 },
 "nbformat": 4,
 "nbformat_minor": 4
}
